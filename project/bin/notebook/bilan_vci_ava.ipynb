{
 "cells": [
  {
   "cell_type": "code",
   "execution_count": null,
   "metadata": {},
   "outputs": [],
   "source": [
    "import pandas as pd\n",
    "import argparse"
   ]
  },
  {
   "cell_type": "code",
   "execution_count": null,
   "metadata": {},
   "outputs": [],
   "source": [
    "campagne = \"2019\"\n",
    "appellation = \"AOC Crémant d'Alsace\"\n",
    "exports_path = \"../../web/exports\"\n",
    "output_path = exports_path + \"/bilan_vci_\"+campagne+\"_aoc_cremant_alsace.csv\"\n",
    "parser = argparse.ArgumentParser()\n",
    "parser.add_argument(\"campagne\", help=\"Année de récolte\", default=campagne, nargs='?')\n",
    "parser.add_argument(\"appellation\", help=\"Libellé de l'appellation\", default=appellation, nargs='?')\n",
    "parser.add_argument(\"exports_path\", help=\"Chemin qui contient les exports\", default=exports_path, nargs='?')\n",
    "parser.add_argument(\"output_path\", help=\"Chemin du fichier de sortie\", default=output_path, nargs='?')\n",
    "\n",
    "try:\n",
    "    args = parser.parse_args()\n",
    "    campagne = args.campagne\n",
    "    appellation = args.appellation\n",
    "    exports_path = args.exports_path\n",
    "    output_path = args.output_path\n",
    "except:\n",
    "    print(\"Arguments pas défaut\")\n",
    "\n",
    "\n"
   ]
  },
  {
   "cell_type": "code",
   "execution_count": null,
   "metadata": {},
   "outputs": [],
   "source": [
    "campagne_prev = str(int(campagne) - 1)\n",
    "vci = pd.read_csv(exports_path + \"/registre_vci.csv\", encoding=\"iso8859_15\", delimiter=\";\", decimal=\",\", dtype={'CVI': 'str', 'SIRET': 'str', 'Produit': 'str', 'Campagne': 'str'}, low_memory=False)\n",
    "drev = pd.read_csv(exports_path + \"/drev.csv\", encoding=\"iso8859_15\", delimiter=\";\", decimal=\",\", dtype={'CVI Opérateur': 'str', 'Campagne': 'str'}, low_memory=False)\n",
    "vci_curr = vci.query(\"Campagne == @campagne\").reset_index(drop=True)\n",
    "vci_prev = vci.query(\"Campagne == @campagne_prev\").reset_index(drop=True)\n",
    "drev_curr = drev.query(\"Campagne == @campagne\").reset_index(drop=True)\n",
    "infos = pd.concat([vci_curr,vci_prev], ignore_index=True)"
   ]
  },
  {
   "cell_type": "code",
   "execution_count": null,
   "metadata": {},
   "outputs": [],
   "source": [
    "drev_curr.head(5)"
   ]
  },
  {
   "cell_type": "code",
   "execution_count": null,
   "metadata": {},
   "outputs": [],
   "source": [
    "vci_curr.head(5)"
   ]
  },
  {
   "cell_type": "code",
   "execution_count": null,
   "metadata": {},
   "outputs": [],
   "source": [
    "vci_curr.columns.tolist()"
   ]
  },
  {
   "cell_type": "code",
   "execution_count": null,
   "metadata": {},
   "outputs": [],
   "source": [
    "vci_curr[vci_curr['Produit'].str.contains(appellation)]"
   ]
  },
  {
   "cell_type": "code",
   "execution_count": null,
   "metadata": {},
   "outputs": [],
   "source": [
    "vci_curr_group = vci_curr[vci_curr['Produit'].str.contains(appellation)].iloc[:,[1,11,12,13,14,15,16,17]].groupby('CVI').agg('sum').reset_index()\n",
    "vci_prev_group = vci_prev[vci_prev['Produit'].str.contains(appellation)].iloc[:,[1,11,12,13,14,15,16,17]].groupby('CVI').agg('sum').reset_index()"
   ]
  },
  {
   "cell_type": "code",
   "execution_count": null,
   "metadata": {},
   "outputs": [],
   "source": [
    "vci_curr_group.head()"
   ]
  },
  {
   "cell_type": "code",
   "execution_count": null,
   "metadata": {},
   "outputs": [],
   "source": [
    "vci_curr_group.describe()"
   ]
  },
  {
   "cell_type": "code",
   "execution_count": null,
   "metadata": {},
   "outputs": [],
   "source": [
    "vci_prev_group.head()"
   ]
  },
  {
   "cell_type": "code",
   "execution_count": null,
   "metadata": {},
   "outputs": [],
   "source": [
    "vci_prev_group.describe()"
   ]
  },
  {
   "cell_type": "code",
   "execution_count": null,
   "metadata": {},
   "outputs": [],
   "source": [
    "registres = pd.merge(vci_prev_group, vci_curr_group,  how='outer', on=['CVI'])"
   ]
  },
  {
   "cell_type": "code",
   "execution_count": null,
   "metadata": {},
   "outputs": [],
   "source": [
    "registres.head()"
   ]
  },
  {
   "cell_type": "code",
   "execution_count": null,
   "metadata": {},
   "outputs": [],
   "source": [
    "registres.describe()"
   ]
  },
  {
   "cell_type": "code",
   "execution_count": null,
   "metadata": {},
   "outputs": [],
   "source": [
    "type_ligne=\"Revendication\" \n",
    "drev_curr['type_ligne'] = drev_curr['Type de ligne']\n",
    "drev_curr.query(\"Produit == @appellation and type_ligne == @type_ligne\")"
   ]
  },
  {
   "cell_type": "code",
   "execution_count": null,
   "metadata": {},
   "outputs": [],
   "source": [
    "drev_curr_group = drev_curr.query(\"Produit == @appellation and type_ligne == @type_ligne\").iloc[:,[1,10,11,12,13]].reset_index()"
   ]
  },
  {
   "cell_type": "code",
   "execution_count": null,
   "metadata": {},
   "outputs": [],
   "source": [
    "drev_curr_group.head()"
   ]
  },
  {
   "cell_type": "code",
   "execution_count": null,
   "metadata": {},
   "outputs": [],
   "source": [
    "drev_curr_group.describe()"
   ]
  },
  {
   "cell_type": "code",
   "execution_count": null,
   "metadata": {},
   "outputs": [],
   "source": [
    "bilan = pd.merge(registres, drev_curr_group, how='left', left_on='CVI', right_on='CVI Opérateur')"
   ]
  },
  {
   "cell_type": "code",
   "execution_count": null,
   "metadata": {},
   "outputs": [],
   "source": [
    "infos.head()"
   ]
  },
  {
   "cell_type": "code",
   "execution_count": null,
   "metadata": {},
   "outputs": [],
   "source": [
    "infos_unique = infos.reindex(columns=[\"CVI\", \"SIRET\", \"Raison sociale\", \"Adresse\", \"Code postal\", \"Commune\"]).drop_duplicates().reset_index();"
   ]
  },
  {
   "cell_type": "code",
   "execution_count": null,
   "metadata": {},
   "outputs": [],
   "source": [
    "infos_unique.head()"
   ]
  },
  {
   "cell_type": "code",
   "execution_count": null,
   "metadata": {},
   "outputs": [],
   "source": [
    "bilan_infos = pd.merge(bilan, infos_unique, how='left', on='CVI')"
   ]
  },
  {
   "cell_type": "code",
   "execution_count": null,
   "metadata": {},
   "outputs": [],
   "source": [
    "bilan_infos.head()"
   ]
  },
  {
   "cell_type": "code",
   "execution_count": null,
   "metadata": {},
   "outputs": [],
   "source": [
    "bilan_infos.describe()"
   ]
  },
  {
   "cell_type": "code",
   "execution_count": null,
   "metadata": {},
   "outputs": [],
   "source": [
    "bilan_infos['campagne'] = campagne\n",
    "bilan_infos['appellation'] = appellation\n",
    "bilan_infos['titre'] = \"\"\n",
    "bilan_infos['raison_sociale'] = bilan_infos[\"Raison sociale\"]\n",
    "bilan_infos['adresse'] = bilan_infos[\"Adresse\"]\n",
    "bilan_infos['commune'] = bilan_infos[\"Commune\"]\n",
    "bilan_infos['code_postal'] = bilan_infos[\"Code postal\"]\n",
    "bilan_infos['siret'] = bilan_infos[\"SIRET\"]\n",
    "bilan_infos['stock_vci_n-1'] = round(bilan_infos[\"Constitue_x\"].fillna(0) + bilan_infos[\"Stock précédent_x\"].fillna(0), 2)\n",
    "bilan_infos['dr_surface'] = bilan_infos[\"Superficie revendiqué\"]\n",
    "bilan_infos['dr_volume'] = bilan_infos[\"Volume revendiqué\"]\n",
    "bilan_infos['dr_vci'] = bilan_infos[\"Constitue_y\"]\n",
    "bilan_infos['vci_complement'] = bilan_infos[\"Complément_x\"]\n",
    "bilan_infos['vci_substitution'] = bilan_infos[\"Substitution_x\"]\n",
    "bilan_infos['vci_rafraichi'] = bilan_infos[\"Rafraichi_x\"]\n",
    "bilan_infos['vci_desctruction'] = bilan_infos[\"Destruction_x\"]\n",
    "bilan_infos['drev_revendique_n'] = round(bilan_infos[\"Volume revendiqué\"].fillna(0) - bilan_infos[\"Volume revendiqué issu du VCI\"].fillna(0), 2)\n",
    "bilan_infos['drev_revendique_n-1'] = bilan_infos[\"Volume revendiqué issu du VCI\"]\n",
    "bilan_infos['stock_vci_n'] = bilan_infos[\"Stock_y\"]"
   ]
  },
  {
   "cell_type": "code",
   "execution_count": null,
   "metadata": {},
   "outputs": [],
   "source": [
    "bilan_final = bilan_infos.reindex(columns=[\"campagne\",\"appellation\",\"titre\", \"raison_sociale\", \"adresse\", \"commune\", \"code_postal\", \"CVI\", \"siret\", \"stock_vci_n-1\", \"dr_surface\", \"dr_volume\", \"dr_vci\", \"vci_complement\", \"vci_substitution\", \"vci_rafraichi\", \"vci_desctruction\", \"drev_revendique_n\", \"drev_revendique_n-1\", \"stock_vci_n\"])"
   ]
  },
  {
   "cell_type": "code",
   "execution_count": null,
   "metadata": {},
   "outputs": [],
   "source": [
    "bilan_final.describe()"
   ]
  },
  {
   "cell_type": "code",
   "execution_count": null,
   "metadata": {},
   "outputs": [],
   "source": [
    "bilan_final.head()"
   ]
  },
  {
   "cell_type": "code",
   "execution_count": null,
   "metadata": {},
   "outputs": [],
   "source": [
    "bilan_final.to_csv(output_path, encoding=\"iso8859_15\", sep=\";\", index=False, decimal=\",\")"
   ]
  },
  {
   "cell_type": "code",
   "execution_count": null,
   "metadata": {},
   "outputs": [],
   "source": []
  }
 ],
 "metadata": {
  "kernelspec": {
   "display_name": "Python 3",
   "language": "python",
   "name": "python3"
  },
  "language_info": {
   "codemirror_mode": {
    "name": "ipython",
    "version": 3
   },
   "file_extension": ".py",
   "mimetype": "text/x-python",
   "name": "python",
   "nbconvert_exporter": "python",
   "pygments_lexer": "ipython3",
   "version": "3.8.3"
  }
 },
 "nbformat": 4,
 "nbformat_minor": 2
}
